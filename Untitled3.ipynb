{
 "cells": [
  {
   "cell_type": "code",
   "execution_count": 4,
   "metadata": {},
   "outputs": [],
   "source": [
    "from math import sqrt, atan2, sin, cos, pi, inf\n",
    "from numpy import array\n",
    "\n",
    "W = 600  # width of the table\n",
    "H = 300  # height of the table\n",
    "R = 10  # the radius of the ball\n",
    "A = 0  # deceleration constant\n",
    "dt = 10 ** -3\n",
    "ma = mb = 1  # masses of the particles a and b\n",
    "\n",
    "\n",
    "def vec_magnitude(V1):\n",
    "    return sqrt(V1[0]**2 + V1[1]**2)\n",
    "\n",
    "\n",
    "def collision_test(V1, V2):\n",
    "    if vec_magnitude(V1 - V2) <= 2 * R:\n",
    "        return True\n",
    "\n",
    "\n",
    "def dot_product(V1, V2):\n",
    "    return sum(V1 * V2)\n",
    "\n",
    "\n",
    "def after_collision_velocity(Va, Vb, Ra, Rb):\n",
    "    ''' the equation that produces the velocity of the objects after the collision'''\n",
    "    Va_new = Va - ((2 * mb * dot_product(Va - Vb, Ra - Rb)) /\n",
    "                ((ma + mb) * (vec_magnitude(Ra - Rb))**2) * (Ra - Rb))\n",
    "    Vb_new = Vb - ((2 * ma * dot_product(Vb - Va, Rb - Ra)) /\n",
    "                ((ma + mb) * (vec_magnitude(Rb - Ra))**2) * (Rb - Ra))\n",
    "    return Va_new, Vb_new\n",
    "\n",
    "\n",
    "def motion(P, V_mag, angle, V):\n",
    "    '''describes the motion of the ball'''\n",
    "    if P[1] < R: #reflection from top \n",
    "        P += array([0, 2 * (R - P[1])])\n",
    "        angle *= -1 #reflection from the angular perspective\n",
    "        return P, V_mag, angle, V \n",
    "    if P[0] < R: # reflection from left\n",
    "        P += array([2 * (R - P[0]), 0]) \n",
    "        angle = pi - angle\n",
    "        return P, V_mag, angle, V\n",
    "    if P[1] > H - R: #reflection from bottom\n",
    "        P += array([0, 2 * (H - R - P[1])])\n",
    "        angle *= -1\n",
    "        return P, V_mag, angle, V\n",
    "    if P[0] > W - R:  #reflection from right\n",
    "        P += array([2 * (W - R - P[0]), 0])\n",
    "        angle = pi - angle\n",
    "        return P, V_mag, angle, V\n",
    "    else:\n",
    "        V_mag -= A * dt\n",
    "        Vx = V_mag * cos(angle)\n",
    "        Vy = V_mag * sin(angle)\n",
    "        P += array([Vx * dt, Vy * dt])\n",
    "        V = array([Vx, Vy])\n",
    "        return P, V_mag, angle, V\n",
    "\n",
    "\n",
    "file = open(\"test_drawing.txt\", \"w\")\n",
    "for line in open(\"tex.txt\", \"r\"):\n",
    "    t = 0 # starting time\n",
    "    Xa, Ya, Xb, Yb, Vxa, Vya, Vxb, Vyb = [\n",
    "        int(i) for i in (line.rstrip()).split(\" \")]\n",
    "    Pa = array([Xa, Ya], dtype=float) #position vector of the ball a\n",
    "    Pb = array([Xb, Yb], dtype=float) #position vector of the ball b\n",
    "    Va = array([Vxa, Vya], dtype=float) #velocity vvector of the ball a\n",
    "    Vb = array([Vxb, Vyb], dtype=float) #velocity vector of the ball b\n",
    "    Va_mag = vec_magnitude(Va)\n",
    "    Vb_mag = vec_magnitude(Vb)\n",
    "    if Vxa == 0: #these steps are necessarry to eliminate error on the angle process\n",
    "        Vxa = inf\n",
    "    angle_a = atan2(Vya, Vxa) # angle between velocity components of the ball a\n",
    "    if Vxb == 0:\n",
    "        Vxb = inf\n",
    "    angle_b = atan2(Vyb, Vxb) # angle between velocity components of the ball b\n",
    "    while t <= 10:\n",
    "        Pa, Va_mag, angle_a, Va = motion(Pa, Va_mag, angle_a, Va) #moving the ball a\n",
    "        Pb, Vb_mag, angle_b, Vb = motion(Pb, Vb_mag, angle_b, Vb) #moving the ball b\n",
    "        if collision_test(Pa, Pb) == True:  #checking the collision validity\n",
    "            Va, Vb = after_collision_velocity(Va, Vb, Pa, Pb)\n",
    "            Va_mag = vec_magnitude(Va) #restating the velocities\n",
    "            Vb_mag = vec_magnitude(Vb)\n",
    "            if Va[0] == 0:\n",
    "                Va[0] = inf\n",
    "            angla_a = atan2(Va[1], Va[0]) #restating the angles\n",
    "            if Vb[0] == 0:\n",
    "                Vb[0] = inf\n",
    "            angle_b = atan2(Vb[1], Vb[0])\n",
    "        t += dt #incrementing time\n",
    "        file.write(str(Pa[0]) + \" \" + str(Pa[1]) + \" \" + str(Pb[0]) + \" \" + str(Pb[1]) + \"\\n\")\n",
    "    print(Pa[0], Pa[1], Pb[0], Pb[1])\n",
    "file.close()"
   ]
  },
  {
   "cell_type": "code",
   "execution_count": 3,
   "metadata": {},
   "outputs": [],
   "source": [
    "import math\n",
    "import random\n",
    "from PIL import Image, ImageDraw\n",
    "imgx = 800\n",
    "imgy = 600\n",
    "image = Image.new(\"RGB\", (imgx, imgy))\n",
    "draw = ImageDraw.Draw(image)\n",
    "\n",
    "# Only 1 ball is used!\n",
    "maxSteps = 20000 # of steps of ball motion (in constant speed)\n",
    "\n",
    "n = random.randint(1, 7) # of circular obstacles\n",
    "crMax = int(min(imgx - 1, imgy - 1) / 4) # max circle radius\n",
    "crMin = 10 # min circle radius\n",
    "\n",
    "# create circular obstacle(s)\n",
    "cxList = []\n",
    "cyList = []\n",
    "crList = []\n",
    "for i in range(n):\n",
    "    while(True): # circle(s) must not overlap\n",
    "        cr = random.randint(crMin, crMax) # circle radius\n",
    "        cx = random.randint(cr, imgx - 1 - cr) # circle center x\n",
    "        cy = random.randint(cr, imgy - 1 - cr) # circle center y\n",
    "        flag = True\n",
    "        if i > 0:\n",
    "            for j in range(i):\n",
    "                if math.hypot(cx - cxList[j], cy - cyList[j]) < cr + crList[j]:\n",
    "                    flag = False\n",
    "                    break\n",
    "        if flag == True:\n",
    "            break\n",
    "    draw.ellipse((cx - cr, cy - cr, cx + cr, cy + cr))\n",
    "    cxList.append(cx)\n",
    "    cyList.append(cy)\n",
    "    crList.append(cr)\n",
    "\n",
    "# initial location of the ball must be outside of the circle(s)\n",
    "while(True):\n",
    "    x = float(random.randint(0, imgx - 1))\n",
    "    y = float(random.randint(0, imgy - 1))\n",
    "    flag = False\n",
    "    for i in range(n):\n",
    "        if math.hypot(x - cxList[i], y - cyList[i]) <= crList[i]:\n",
    "            flag = True\n",
    "            break\n",
    "    if flag == False:\n",
    "        break\n",
    "    \n",
    "# initial direction of the ball\n",
    "a = 1.0 * math.pi * random.random()\n",
    "s = math.sin(a)\n",
    "c = math.cos(a)\n",
    "\n",
    "for i in range(maxSteps):\n",
    "    image.putpixel((int(x), int(y)), (255, 255, 255))\n",
    "    xnew = x + c\n",
    "    ynew = y + s\n",
    "\n",
    "    # reflection from the walls\n",
    "    if xnew < 0 or xnew > imgx - 1:\n",
    "        c = -c\n",
    "        xnew = x\n",
    "    if ynew < 0 or ynew > imgy - 1:\n",
    "        s = -s\n",
    "        ynew = y\n",
    "\n",
    "    # reflection from the circle(s)\n",
    "    for i in range(n):\n",
    "        if math.hypot(xnew - cxList[i], ynew - cyList[i]) <= crList[i]:\n",
    "            # angle of the circle point\n",
    "            ca = math.atan2(ynew - cyList[i], xnew - cxList[i])\n",
    "            # reversed collision angle of the ball\n",
    "            rca = math.atan2(-s, -c)\n",
    "            # reflection angle of the ball\n",
    "            rab = rca + (ca - rca) * 2\n",
    "            s = math.sin(rab)\n",
    "            c = math.cos(rab)\n",
    "            xnew = x\n",
    "            ynew = y\n",
    "\n",
    "    x = xnew\n",
    "    y = ynew\n",
    "    \n",
    "image.save(\"Dynamical_Billiards.png\", \"PNG\")"
   ]
  },
  {
   "cell_type": "code",
   "execution_count": null,
   "metadata": {},
   "outputs": [],
   "source": [
    "import matplotlib.pyplot as plt\n",
    "import numpy as np\n",
    "class billiard_rectangular:\n",
    "    def __init__(self,x_0,y_0,vx_0,vy_0,N,dt):\n",
    "        self.x_0 = x_0\n",
    "        self.y_0 = y_0\n",
    "        self.vx_0 = vx_0\n",
    "        self.vy_0 = vy_0\n",
    "        self.N = N\n",
    "        self.dt = dt\n",
    "    def motion_calculate(self):\n",
    "        self.x = []\n",
    "        self.y = []\n",
    "        self.vx = []\n",
    "        self.vy = []\n",
    "        self.t = [0]\n",
    "        self.x.append(self.x_0)\n",
    "        self.y.append(self.y_0)\n",
    "        self.vx.append(self.vx_0)\n",
    "        self.vy.append(self.vy_0)\n",
    "        for i in range(1,self.N):\n",
    "            self.x.append(self.x[i - 1] + self.vx[i - 1]*self.dt)\n",
    "            self.y.append(self.y[i - 1] + self.vy[i - 1]*self.dt)\n",
    "            self.vx.append(self.vx[i - 1])\n",
    "            self.vy.append(self.vy[i - 1])\n",
    "            if (self.x[i] < -1.0):\n",
    "                self.x[i],self.y[i] = self.correct('x>-1.0',self.x[i - 1], self.y[i - 1], self.vx[i - 1], self.vy[i - 1])\n",
    "                self.vx[i] = - self.vx[i]\n",
    "            elif(self.x[i] > 1.0):\n",
    "                self.x[i],self.y[i] = self.correct('x<1.0',self.x[i - 1], self.y[i - 1], self.vx[i - 1], self.vy[i - 1])\n",
    "                self.vx[i] = - self.vx[i]\n",
    "            elif(self.y[i] < -1.0):\n",
    "                self.x[i],self.y[i] = self.correct('y>-1.0',self.x[i - 1], self.y[i - 1], self.vx[i - 1], self.vy[i - 1])\n",
    "                self.vy[i] = -self.vy[i]\n",
    "            elif(self.y[i] > 1.0):\n",
    "                self.x[i],self.y[i] = self.correct('y<1.0',self.x[i - 1], self.y[i - 1], self.vx[i - 1], self.vy[i - 1])\n",
    "                self.vy[i] = -self.vy[i] \n",
    "            else:\n",
    "                pass\n",
    "            self.t.append(self.t[i - 1] + self.dt)\n",
    "        return self.x, self.y\n",
    "    def correct(self,condition,x,y,vx,vy):\n",
    "        vx_c = vx/100.0\n",
    "        vy_c = vy/100.0\n",
    "        while eval(condition):\n",
    "            x = x + vx_c*self.dt\n",
    "            y = y + vy_c*self.dt\n",
    "        return x-vx_c*self.dt,y-vy_c*self.dt\n",
    "    def reflect(self):\n",
    "        pass\n",
    "def plot(self):\n",
    "    plt.figure(figsize = (8,8))\n",
    "    plt.xlim(-1,1)\n",
    "    plt.ylim(-1,1)\n",
    "    plt.xlabel('x')\n",
    "    plt.ylabel('y')\n",
    "    plt.plot(self.x,self.y,'g')\n",
    "    plt.show()"
   ]
  },
  {
   "cell_type": "code",
   "execution_count": null,
   "metadata": {},
   "outputs": [
    {
     "data": {
      "text/html": [
       "<div id=\"glowscript\" class=\"glowscript\"></div>"
      ],
      "text/plain": [
       "<IPython.core.display.HTML object>"
      ]
     },
     "metadata": {},
     "output_type": "display_data"
    },
    {
     "data": {
      "application/javascript": [
       "if (typeof Jupyter !== \"undefined\") { window.__context = { glowscript_container: $(\"#glowscript\").removeAttr(\"id\")};}else{ element.textContent = ' ';}"
      ],
      "text/plain": [
       "<IPython.core.display.Javascript object>"
      ]
     },
     "metadata": {},
     "output_type": "display_data"
    },
    {
     "data": {
      "application/javascript": [
       "if (typeof Jupyter !== \"undefined\") {require.undef(\"nbextensions/vpython_libraries/glow.min\");}else{element.textContent = ' ';}"
      ],
      "text/plain": [
       "<IPython.core.display.Javascript object>"
      ]
     },
     "metadata": {},
     "output_type": "display_data"
    },
    {
     "data": {
      "application/javascript": [
       "if (typeof Jupyter !== \"undefined\") {require.undef(\"nbextensions/vpython_libraries/glowcomm\");}else{element.textContent = ' ';}"
      ],
      "text/plain": [
       "<IPython.core.display.Javascript object>"
      ]
     },
     "metadata": {},
     "output_type": "display_data"
    },
    {
     "data": {
      "application/javascript": [
       "if (typeof Jupyter !== \"undefined\") {require.undef(\"nbextensions/vpython_libraries/jquery-ui.custom.min\");}else{element.textContent = ' ';}"
      ],
      "text/plain": [
       "<IPython.core.display.Javascript object>"
      ]
     },
     "metadata": {},
     "output_type": "display_data"
    },
    {
     "data": {
      "application/javascript": [
       "if (typeof Jupyter !== \"undefined\") {require([\"nbextensions/vpython_libraries/glow.min\"], function(){console.log(\"GLOW LOADED\");});}else{element.textContent = ' ';}"
      ],
      "text/plain": [
       "<IPython.core.display.Javascript object>"
      ]
     },
     "metadata": {},
     "output_type": "display_data"
    },
    {
     "data": {
      "application/javascript": [
       "if (typeof Jupyter !== \"undefined\") {require([\"nbextensions/vpython_libraries/glowcomm\"], function(){console.log(\"GLOWCOMM LOADED\");});}else{element.textContent = ' ';}"
      ],
      "text/plain": [
       "<IPython.core.display.Javascript object>"
      ]
     },
     "metadata": {},
     "output_type": "display_data"
    },
    {
     "data": {
      "application/javascript": [
       "if (typeof Jupyter !== \"undefined\") {require([\"nbextensions/vpython_libraries/jquery-ui.custom.min\"], function(){console.log(\"JQUERY LOADED\");});}else{element.textContent = ' ';}"
      ],
      "text/plain": [
       "<IPython.core.display.Javascript object>"
      ]
     },
     "metadata": {},
     "output_type": "display_data"
    }
   ],
   "source": [
    "from vpython import *\n",
    "side = 4.0\n",
    "thk = 0.3\n",
    "s2 = 2*side - thk\n",
    "s3 = 2*side + thk\n",
    "wallR = box (pos=( side, 0, 0), size=(thk, s2, s3),  color = color.green)\n",
    "wallL = box (pos=(-side, 0, 0), size=(thk, s2, s3),  color = color.green)\n",
    "wallB = box (pos=(0, -side, 0), size=(s3, thk, s3),  color = color.green)\n",
    "wallT = box (pos=(0,  side, 0), size=(s3, thk, s3),  color = color.green)\n",
    "wallG = box (pos=(0,0,-2*side),size=(s3,s3,s3),color=color.green)\n",
    "ball = sphere(pos=(0.2,0,0), color=color.white, radius = 0.5, make_trail=True, retain=200)\n",
    "ball.trail_object.radius = 0.07\n",
    "ball.v = vector(0.5,0.3,0.4)\n",
    "side = side - thk*0.5 - ball.radius\n",
    "dt = 0.5\n",
    "t=0.0\n",
    "while True:\n",
    "  rate(100)\n",
    "  t = t + dt\n",
    "  ball.pos = ball.pos + ball.v*dt\n",
    "  if not (side > ball.x > -side):\n",
    "    ball.v.x = -ball.v.x\n",
    "  if not (side > ball.y > -side):\n",
    "    ball.v.y = -ball.v.y\n",
    "  if not (side>ball.z>-side):\n",
    "      ball.v.z=-ball.v.z"
   ]
  },
  {
   "cell_type": "code",
   "execution_count": null,
   "metadata": {},
   "outputs": [],
   "source": []
  }
 ],
 "metadata": {
  "kernelspec": {
   "display_name": "Python 3",
   "language": "python",
   "name": "python3"
  },
  "language_info": {
   "codemirror_mode": {
    "name": "ipython",
    "version": 3
   },
   "file_extension": ".py",
   "mimetype": "text/x-python",
   "name": "python",
   "nbconvert_exporter": "python",
   "pygments_lexer": "ipython3",
   "version": "3.7.6"
  }
 },
 "nbformat": 4,
 "nbformat_minor": 4
}
